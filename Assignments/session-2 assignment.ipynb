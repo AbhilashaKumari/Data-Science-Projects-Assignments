{
 "cells": [
  {
   "cell_type": "markdown",
   "metadata": {},
   "source": [
    "### Data Analytics Assignment 1 - Python Introduction\n",
    "\n",
    "Data cleansing, List, Dictionary, conditionals, loops"
   ]
  },
  {
   "cell_type": "code",
   "execution_count": 2,
   "metadata": {},
   "outputs": [],
   "source": [
    "#You are given the batting data of qualifier between MI and KKR in the form of a nested dictionary.\n",
    "\n",
    "qualifier_2 = {'KKR' : {'Chris Lynn': 4, \n",
    "                      'Sunil Narine': 10, \n",
    "                      'Gautam Gambhir (c)': 12, \n",
    "                      'Robin Uthappa (wk)': 1, \n",
    "                      'Ishank Jaggi': 28, \n",
    "                      'Colin Grandhomme': 0,\n",
    "                      'Suryakumar Yadav': 31,\n",
    "                      'Piyush Chawla': 2,\n",
    "                      'Nathan Coulter-Nile': 6,\n",
    "                      'Umesh Yadav': 2,\n",
    "                      'Ankit Rajpoot': 4,\n",
    "                      'Extra runs': 7,\n",
    "                      'Total batted': 10},\n",
    "                'MI': {'Lendl Simmons': 3,\n",
    "                      'Parthiv Patel (wk)': 14,\n",
    "                      'Ambati Rayudu': 6,\n",
    "                      'Rohit Sharma (c)': 26,\n",
    "                      'Krunal Pandya': 45,\n",
    "                      'Kieron Pollard': 9,\n",
    "                      'Extra runs': 8,\n",
    "                      'Total batted': 6}}\n"
   ]
  },
  {
   "cell_type": "code",
   "execution_count": 3,
   "metadata": {},
   "outputs": [
    {
     "data": {
      "text/plain": [
       "{'KKR': {'Chris Lynn': 4,\n",
       "  'Sunil Narine': 10,\n",
       "  'Gautam Gambhir (c)': 12,\n",
       "  'Robin Uthappa (wk)': 1,\n",
       "  'Ishank Jaggi': 28,\n",
       "  'Colin Grandhomme': 0,\n",
       "  'Suryakumar Yadav': 31,\n",
       "  'Piyush Chawla': 2,\n",
       "  'Nathan Coulter-Nile': 6,\n",
       "  'Umesh Yadav': 2,\n",
       "  'Ankit Rajpoot': 4,\n",
       "  'Extra runs': 7},\n",
       " 'MI': {'Lendl Simmons': 3,\n",
       "  'Parthiv Patel (wk)': 14,\n",
       "  'Ambati Rayudu': 6,\n",
       "  'Rohit Sharma (c)': 26,\n",
       "  'Krunal Pandya': 45,\n",
       "  'Kieron Pollard': 9,\n",
       "  'Extra runs': 8}}"
      ]
     },
     "execution_count": 3,
     "metadata": {},
     "output_type": "execute_result"
    }
   ],
   "source": [
    "#Question 1:\n",
    "#Clean the data and delete any entry from the dictionary that would impact your finding the total score later \n",
    "#(hint: do you get total score if you add all the runs?)\n",
    "del qualifier_2['KKR']['Total batted']\n",
    "del qualifier_2['MI']['Total batted']\n",
    "qualifier_2"
   ]
  },
  {
   "cell_type": "code",
   "execution_count": 2,
   "metadata": {},
   "outputs": [
    {
     "name": "stdout",
     "output_type": "stream",
     "text": [
      "kkr_name: ['Chris', 'Sunil', 'Gautam', 'Robin', 'Ishank', 'Colin', 'Suryakumar', 'Piyush', 'Nathan', 'Umesh', 'Ankit', 'Extra', 'Total']\n",
      "kkr_lastname: ['Lynn', 'Narine', 'Gambhir', 'Uthappa', 'Jaggi', 'Grandhomme', 'Yadav', 'Chawla', 'Coulter-Nile', 'Yadav', 'Rajpoot', 'runs', 'batted']\n",
      "mi_name: ['Lendl', 'Parthiv', 'Ambati', 'Rohit', 'Krunal', 'Kieron', 'Extra', 'Total']\n",
      "mi_lastname: ['Simmons', 'Patel', 'Rayudu', 'Sharma', 'Pandya', 'Pollard', 'runs', 'batted']\n"
     ]
    }
   ],
   "source": [
    "#Question 2:\n",
    "#Create 4 lists consisting of names and lastnames of players: kkr_name, kkr_lastname, mi_name, mi_last and delete any entries\n",
    "#in the lists that don't reflect player names.\n",
    "#They should look like: print(kkr_name) ['Chris', 'Sunil', 'Gautam'] etc.\n",
    "kkr_names=['Chris Lynn','Sunil Narine','Gautam Gambhir (c)','Robin Uthappa (wk)','Ishank Jaggi','Colin Grandhomme','Suryakumar Yadav','Piyush Chawla','Nathan Coulter-Nile','Umesh Yadav','Ankit Rajpoot']\n",
    "mi_names=['Lendl Simmons','Parthiv Patel (wk)','Ambati Rayudu','Rohit Sharma (c)','Krunal Pandya','Kieron Pollard']\n",
    "print('kkr_name:',[x.split()[0] for x in qualifier_2['KKR']])\n",
    "print('kkr_lastname:',[x.split()[1] for x in qualifier_2['KKR']])\n",
    "print('mi_name:',[x.split()[0] for x in qualifier_2['MI']])\n",
    "print('mi_lastname:',[x.split()[1] for x in qualifier_2['MI']])\n"
   ]
  },
  {
   "cell_type": "code",
   "execution_count": 3,
   "metadata": {},
   "outputs": [
    {
     "name": "stdout",
     "output_type": "stream",
     "text": [
      "107\n"
     ]
    }
   ],
   "source": [
    "#Question 3:\n",
    "# Write a function that takes dictionary and team as an argument and returns the total runs\n",
    "def total_runs(dict_name, dict_key):\n",
    "    for k,v  in dict_name.items():\n",
    "        if k == dict_key:\n",
    "            print(sum(v.values()))\n",
    "        \n",
    "total_runs(qualifier_2, 'KKR')\n",
    "# Test case:\n",
    "# print(total_runs(qualifier_2, 'KKR')) should print 107"
   ]
  },
  {
   "cell_type": "code",
   "execution_count": 8,
   "metadata": {},
   "outputs": [
    {
     "data": {
      "text/plain": [
       "['KKR']"
      ]
     },
     "execution_count": 8,
     "metadata": {},
     "output_type": "execute_result"
    }
   ],
   "source": [
    "#Question 4:\n",
    "#.Write a function that takes dictionary and returns the name of the winning team.\n",
    "# Test case:\n",
    "# winner(qualifier_2) should print 'MI'\n",
    "def winner(qualifier_2):\n",
    "    k=[]\n",
    "    for x,y in qualifier_2.items():\n",
    "        total_runs=0\n",
    "        for x1,y1 in y.items():\n",
    "            total_runs += y1\n",
    "            team=[x]\n",
    "            k.append(x)\n",
    "        return team\n",
    "    \n",
    "winner(qualifier_2)\n"
   ]
  },
  {
   "cell_type": "code",
   "execution_count": 4,
   "metadata": {},
   "outputs": [
    {
     "name": "stdout",
     "output_type": "stream",
     "text": [
      "MI\n"
     ]
    }
   ],
   "source": [
    "#Question 5:\n",
    "#Write a function that returns the name of the team that gave maximum extra runs. \n",
    "#If the extra runs are same for both the teams, the function should print('Both team bowlers equally sloppy')\n",
    "# Test case:\n",
    "#print(sloppy_bowlers(qualifier_2)) should print 'MI'\n",
    "def sloppy_bowlers(x):\n",
    "    if qualifier_2['KKR']['Extra runs'] > qualifier_2['MI']['Extra runs']:\n",
    "        return  'KKR'\n",
    "    elif qualifier_2['KKR']['Extra runs']< qualifier_2['MI']['Extra runs']:\n",
    "        return  'MI'\n",
    "    else:\n",
    "        return 'Both team bowlers equally sloppy'\n",
    "\n",
    "print(sloppy_bowlers(qualifier_2))"
   ]
  },
  {
   "cell_type": "code",
   "execution_count": 4,
   "metadata": {},
   "outputs": [
    {
     "name": "stdout",
     "output_type": "stream",
     "text": [
      "4 Come on!\n",
      "10 Come on!\n",
      "12 Ok you did something\n",
      "1 Come on!\n",
      "28 YOu can do better\n",
      "0 Duck\n",
      "31 good job\n",
      "2 Come on!\n",
      "6 Come on!\n",
      "2 Come on!\n",
      "4 Come on!\n"
     ]
    }
   ],
   "source": [
    "#Question 6:\n",
    "# Given the list kkr_runs = [4, 10, 12, 1, 28, 0, 31, 2, 6, 2, 4], \n",
    "# print \"good job\" if the score is more than 30, \n",
    "# \"YOu can do better\" if the score is greater than 20 but less than 30,\n",
    "# \"Ok you did something\" if the score is more than 10 and less than or equal to 20,\n",
    "# \"Duck\" if its 0,\n",
    "# \"Come on!\" if its more than 0 and less than or equal to 10\n",
    "kkr_runs = [4, 10, 12, 1, 28, 0, 31, 2, 6, 2, 4]\n",
    "kr=[] \n",
    "for i in kkr_runs:\n",
    "    if i>30:\n",
    "        print(i,\"good job\")\n",
    "    elif i>20 and i<30:\n",
    "        print(i,\"YOu can do better\")\n",
    "    elif i>10 and i<=20:\n",
    "        print(i,\"Ok you did something\")\n",
    "    elif i==0:\n",
    "        print(i,\"Duck\")\n",
    "    else:\n",
    "        print(i,\"Come on!\")"
   ]
  },
  {
   "cell_type": "code",
   "execution_count": 16,
   "metadata": {
    "scrolled": true
   },
   "outputs": [
    {
     "name": "stdout",
     "output_type": "stream",
     "text": [
      "enter first number: 2\n",
      "enter second number: 9\n",
      "2\n",
      "3\n",
      "4\n",
      "5\n",
      "6\n",
      "7\n",
      "8\n",
      "duh\n"
     ]
    }
   ],
   "source": [
    "#Question 7:\n",
    "# Ask the user to enter two numbers. Print all numbers between these two numbers, both numbers included. \n",
    "# The numbers could be in any order. Use while loop\n",
    "# If both the numbers are same, print \"duh\".\n",
    "a = int(input(\"enter first number: \"))\n",
    "b = int(input(\"enter second number: \"))\n",
    "\n",
    "while (a<=b):\n",
    "    print(a)\n",
    "    a += 1\n",
    "\n",
    "    if a == b:\n",
    "        print (\"duh\")\n",
    "        break\n",
    "    \n",
    "    \n",
    "        \n",
    "    "
   ]
  },
  {
   "cell_type": "markdown",
   "metadata": {},
   "source": [
    "Extra credits:"
   ]
  },
  {
   "cell_type": "code",
   "execution_count": 6,
   "metadata": {},
   "outputs": [
    {
     "name": "stdout",
     "output_type": "stream",
     "text": [
      "1\n",
      "guess the number1\n",
      "Congratulations\n"
     ]
    }
   ],
   "source": [
    "#Question 8:\n",
    "#Generate a random number using following code\n",
    "import random\n",
    "random_number = random.randint( 0, 10)\n",
    "#Now keep asking the user to guess the number. If user's guess is more than the random number, print ('Go low'),\n",
    "#if user's guess is less than the random number, print ('Go high'),\n",
    "#when user makes the right guess, print ('Congratulations') and stop the loop\n",
    "print(random_number)\n",
    "num = int(input(\"guess the number\"))\n",
    "if(num>random_number):\n",
    "    print('Go low')\n",
    "elif(num<random_number):\n",
    "    print('Go high')\n",
    "else:\n",
    "    print('Congratulations')\n",
    "\n"
   ]
  },
  {
   "cell_type": "code",
   "execution_count": 3,
   "metadata": {},
   "outputs": [
    {
     "name": "stdout",
     "output_type": "stream",
     "text": [
      "[4, 10, 12, 1, 28, 0, 31, 2, 6]\n"
     ]
    }
   ],
   "source": [
    "#Question 9:\n",
    "#Given the list of kkr score, return another list kkr_unique with only unique runs (The list would have only a single instance of numbers 4 and 2)\n",
    "#kkr_runs = [4, 10, 12, 1, 28, 0, 31, 2, 6, 2, 4]\n",
    "\n",
    "def kkr_unique(kkr_runs):\n",
    "    x = []\n",
    "    for i in kkr_runs:\n",
    "        if i not in x:\n",
    "            x.append(i)\n",
    "    return x\n",
    "print(kkr_unique([4,10,12,1,28,0,31,2,6,2,4]))\n"
   ]
  },
  {
   "cell_type": "code",
   "execution_count": 6,
   "metadata": {},
   "outputs": [
    {
     "name": "stdout",
     "output_type": "stream",
     "text": [
      "[3, 6, 8, 9, 14, 26, 45]\n"
     ]
    }
   ],
   "source": [
    "#Question 10:\n",
    "# Write your own sort functin called my_sort() that takes a list as an argument and returns the sorted list.\n",
    "# Test case:\n",
    "# my_sort([3, 14, 6, 26, 45, 9, 8]) should return [3, 6, 8, 9, 14, 26, 45]\n",
    "def my_sort(l):\n",
    "    l_sorted = True\n",
    "    while l_sorted:\n",
    "        l_sorted = False\n",
    "        for i in range(len(l) - 1):\n",
    "            if l[i] > l[i+1]:\n",
    "                l[i], l[i+1] = l[i+1], l[i]\n",
    "                l_sorted = True\n",
    "                \n",
    "    return l\n",
    "\n",
    "print(my_sort([3,14,6,26,45,9,8]))"
   ]
  },
  {
   "cell_type": "code",
   "execution_count": null,
   "metadata": {},
   "outputs": [],
   "source": []
  }
 ],
 "metadata": {
  "kernelspec": {
   "display_name": "Python 3",
   "language": "python",
   "name": "python3"
  },
  "language_info": {
   "codemirror_mode": {
    "name": "ipython",
    "version": 3
   },
   "file_extension": ".py",
   "mimetype": "text/x-python",
   "name": "python",
   "nbconvert_exporter": "python",
   "pygments_lexer": "ipython3",
   "version": "3.7.1"
  }
 },
 "nbformat": 4,
 "nbformat_minor": 2
}
