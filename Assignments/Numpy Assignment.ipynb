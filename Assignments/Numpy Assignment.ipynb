{
 "cells": [
  {
   "cell_type": "markdown",
   "metadata": {},
   "source": [
    "## Data Analytics using NumPy Assignment"
   ]
  },
  {
   "cell_type": "code",
   "execution_count": 1,
   "metadata": {},
   "outputs": [],
   "source": [
    "import numpy as np"
   ]
  },
  {
   "cell_type": "code",
   "execution_count": 2,
   "metadata": {},
   "outputs": [
    {
     "data": {
      "text/plain": [
       "numpy.ndarray"
      ]
     },
     "execution_count": 2,
     "metadata": {},
     "output_type": "execute_result"
    }
   ],
   "source": [
    "# 1.Create a rank 2 numpy array of random integers and print:a) shape,size and dimensions of the array b) number of odd and even\n",
    "#   integers in the array\n",
    "x = np.array ([[1,2],[3,4]])\n",
    "type(x)"
   ]
  },
  {
   "cell_type": "code",
   "execution_count": 3,
   "metadata": {},
   "outputs": [
    {
     "data": {
      "text/plain": [
       "(2, 2)"
      ]
     },
     "execution_count": 3,
     "metadata": {},
     "output_type": "execute_result"
    }
   ],
   "source": [
    "x.shape"
   ]
  },
  {
   "cell_type": "code",
   "execution_count": 4,
   "metadata": {},
   "outputs": [
    {
     "data": {
      "text/plain": [
       "dtype('int32')"
      ]
     },
     "execution_count": 4,
     "metadata": {},
     "output_type": "execute_result"
    }
   ],
   "source": [
    "x.dtype"
   ]
  },
  {
   "cell_type": "code",
   "execution_count": 5,
   "metadata": {},
   "outputs": [
    {
     "data": {
      "text/plain": [
       "4"
      ]
     },
     "execution_count": 5,
     "metadata": {},
     "output_type": "execute_result"
    }
   ],
   "source": [
    "x.size"
   ]
  },
  {
   "cell_type": "code",
   "execution_count": 6,
   "metadata": {},
   "outputs": [
    {
     "name": "stdout",
     "output_type": "stream",
     "text": [
      "1 3\n"
     ]
    }
   ],
   "source": [
    "print (x[0,0], x[1,0]) #odd elements"
   ]
  },
  {
   "cell_type": "code",
   "execution_count": 7,
   "metadata": {},
   "outputs": [
    {
     "name": "stdout",
     "output_type": "stream",
     "text": [
      "2 4\n"
     ]
    }
   ],
   "source": [
    "print (x[0,1],x[1,1]) #even elements"
   ]
  },
  {
   "cell_type": "code",
   "execution_count": 8,
   "metadata": {},
   "outputs": [
    {
     "name": "stdout",
     "output_type": "stream",
     "text": [
      "[[1 2 3]\n",
      " [4 5 6]\n",
      " [7 8 9]]\n"
     ]
    }
   ],
   "source": [
    "# 2.Create a (3X3) numpy array with values ranging from 1 to 9.\n",
    "y = np.array([[1,2,3],[4,5,6],[7,8,9]])\n",
    "print(y)"
   ]
  },
  {
   "cell_type": "code",
   "execution_count": 9,
   "metadata": {},
   "outputs": [
    {
     "name": "stdout",
     "output_type": "stream",
     "text": [
      "[[ 1  2  3  4  5]\n",
      " [ 6  7  8  9 10]\n",
      " [11 12 13 14 15]\n",
      " [16 17 18 19 20]\n",
      " [21 22 23 24 25]]\n",
      "13.0\n",
      "(array([2, 2, 3, 3, 3, 3, 3, 4, 4, 4, 4, 4], dtype=int64), array([3, 4, 0, 1, 2, 3, 4, 0, 1, 2, 3, 4], dtype=int64))\n",
      "elements which are greater than average value of the array\n",
      "[14 15 16 17 18 19 20 21 22 23 24 25]\n"
     ]
    }
   ],
   "source": [
    "# 3.Create a (5X5) random numpy array and print the numbers from the array which are greater than average value of the array.\n",
    "# Hint: Use np.where() function\n",
    "z = np.array([[1,2,3,4,5],[6,7,8,9,10],[11,12,13,14,15],[16,17,18,19,20],[21,22,23,24,25]])\n",
    "print (z)\n",
    "avg= np.average(z)\n",
    "print (avg)\n",
    "num = np.where(z>avg)\n",
    "print(num)\n",
    "print(\"elements which are greater than average value of the array\")\n",
    "print(z[num])"
   ]
  },
  {
   "cell_type": "code",
   "execution_count": 10,
   "metadata": {},
   "outputs": [
    {
     "name": "stdout",
     "output_type": "stream",
     "text": [
      "Mean of each row [30.  29.4 14.3 20.8 18.6 19.2 32.8 34.9 14.2 19.5]\n",
      "Mean of each column [17.5 26.3 22.9 25.9 20.5 26.4 23.2 20.6 22.4 28. ]\n",
      "Maximum value of each row [48 48 37 44 43 46 47 46 39 49]\n",
      "Minimum Values of each Column [0 4 3 2 0 3 5 1 3 1]\n",
      "Varience of the array 208.93310000000002\n",
      "standard deviation of the array 14.454518324731545\n"
     ]
    }
   ],
   "source": [
    "# 4.Given an array of random integers:\n",
    "arr1 = np.random.randint(50,size=(10,10))\n",
    "# Find out : a) row wise and column wise mean b) row wise and column wise max and min values c) Variance and Standard Deviation \n",
    "# of the array.\n",
    "arr1\n",
    "row_mean= np.mean(arr1, axis=0)\n",
    "print(\"Mean of each row\",row_mean)\n",
    "\n",
    "col_mean =np.mean(arr1, axis=1)\n",
    "print(\"Mean of each column\",col_mean)\n",
    "\n",
    "max_values = np.max(arr1, axis=0)\n",
    "print(\"Maximum value of each row\",max_values)\n",
    "\n",
    "min_values = np.min(arr1, axis=1)\n",
    "print(\"Minimum Values of each Column\",min_values)\n",
    "\n",
    "varience = np.var(arr1)\n",
    "print(\"Varience of the array\",varience)\n",
    "\n",
    "std = np.std(arr1)\n",
    "print(\"standard deviation of the array\",std)\n"
   ]
  },
  {
   "cell_type": "code",
   "execution_count": 11,
   "metadata": {},
   "outputs": [
    {
     "data": {
      "text/plain": [
       "matrix([[48, 57],\n",
       "        [38, 48]])"
      ]
     },
     "execution_count": 11,
     "metadata": {},
     "output_type": "execute_result"
    }
   ],
   "source": [
    "# Extra Credits\n",
    "# 5.Given two matrices:\n",
    "arr1 = np.matrix([[4,5],[7,3]])\n",
    "arr2 = np.matrix([[2,3],[8,9]])\n",
    "\n",
    "# Find out the matrix multiplication of the above two matrices without using numpy function and then verify your answer \n",
    "# using np.dot(arr1,arr2) function\n",
    "arr3 = np.multiply(arr1,arr2)\n",
    "'''res = [[0,0],[0,0]] \n",
    "for i in range(len(arr1)): \n",
    "    for j in range(len(arr2[0])): \n",
    "        for k in range(len(arr2)): \n",
    "            result[i][j] += arr1[i][k] * arr2[k][j]\n",
    "for r in result:\n",
    "    print(r) '''\n",
    "result= np.dot(arr1,arr2)\n",
    "result"
   ]
  },
  {
   "cell_type": "code",
   "execution_count": null,
   "metadata": {
    "collapsed": true
   },
   "outputs": [],
   "source": []
  }
 ],
 "metadata": {
  "kernelspec": {
   "display_name": "Python 3",
   "language": "python",
   "name": "python3"
  },
  "language_info": {
   "codemirror_mode": {
    "name": "ipython",
    "version": 3
   },
   "file_extension": ".py",
   "mimetype": "text/x-python",
   "name": "python",
   "nbconvert_exporter": "python",
   "pygments_lexer": "ipython3",
   "version": "3.7.1"
  }
 },
 "nbformat": 4,
 "nbformat_minor": 2
}
